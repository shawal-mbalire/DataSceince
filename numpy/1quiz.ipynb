{
 "cells": [
  {
   "cell_type": "markdown",
   "metadata": {},
   "source": [
    "# Numpy array quiz"
   ]
  },
  {
   "cell_type": "markdown",
   "metadata": {},
   "source": [
    "## Question 1\n",
    "\n",
    "What is the result of the following code?\n",
    "\n",
    "```python\n",
    "    import numpy as np\n",
    "    a = np.array([1, 2, 3])\n",
    "    b = np.array([4, 5, 6])\n",
    "    c = a + b\n",
    "    print(c)\n",
    "```"
   ]
  },
  {
   "cell_type": "code",
   "execution_count": 1,
   "metadata": {},
   "outputs": [
    {
     "name": "stdout",
     "output_type": "stream",
     "text": [
      "[5 7 9]\n"
     ]
    }
   ],
   "source": [
    "import numpy as np\n",
    "a = np.array([1, 2, 3])\n",
    "b = np.array([4, 5, 6])\n",
    "c = a + b\n",
    "print(c)"
   ]
  },
  {
   "cell_type": "markdown",
   "metadata": {},
   "source": [
    "[5 7 9]"
   ]
  },
  {
   "cell_type": "markdown",
   "metadata": {},
   "source": [
    "## Question 2\n",
    "\n",
    "Create a numpy array of 10 zeros. and reshape it to (2, 5)"
   ]
  },
  {
   "cell_type": "code",
   "execution_count": 2,
   "metadata": {},
   "outputs": [
    {
     "name": "stdout",
     "output_type": "stream",
     "text": [
      "[[0. 0. 0. 0. 0.]\n",
      " [0. 0. 0. 0. 0.]]\n"
     ]
    }
   ],
   "source": [
    "import numpy as np\n",
    "arr = np.zeros(10)\n",
    "arr = arr.reshape(2,5)\n",
    "print(arr)"
   ]
  },
  {
   "cell_type": "markdown",
   "metadata": {},
   "source": [
    "## Question 3\n",
    "\n",
    "Find Mean, Mode, Median, Standard Deviation of the following data"
   ]
  },
  {
   "cell_type": "code",
   "execution_count": 13,
   "metadata": {},
   "outputs": [
    {
     "name": "stdout",
     "output_type": "stream",
     "text": [
      "Mean 5.559\n",
      "Mode ModeResult(mode=1, count=1)\n",
      "Median 10.5\n",
      "sDEv 2.254\n"
     ]
    }
   ],
   "source": [
    "import numpy as np\n",
    "from scipy import stats,ndimage\n",
    "data = [1, 2, 3, 4, 5, 6, 7, 8, 9, 10, 11, 12, 13, 14, 15, 16, 17, 18, 19, 20]\n",
    "data = np.array(data)\n",
    "\n",
    "print(f\"Mean {stats.hmean(data):.4}\")\n",
    "print(f\"Mode {stats.mode(a = data,axis=0,nan_policy='propagate', keepdims = False)}\")\n",
    "print(f\"Median {ndimage.median(data)}\")\n",
    "print(f\"sDEv {stats.gstd(data):.4}\")"
   ]
  },
  {
   "cell_type": "markdown",
   "metadata": {},
   "source": [
    "## Question 4\n",
    "\n",
    "create a 6x6 numpy array with random values and find the min and max values"
   ]
  },
  {
   "cell_type": "code",
   "execution_count": 26,
   "metadata": {},
   "outputs": [
    {
     "name": "stdout",
     "output_type": "stream",
     "text": [
      "[[[18 49 57 94 80 56]]\n",
      "\n",
      " [[52 19 26 72 74 26]]\n",
      "\n",
      " [[88 32 94 79 62 97]]\n",
      "\n",
      " [[73  7 47 21 28 80]]\n",
      "\n",
      " [[20 42  4 38 25 82]]\n",
      "\n",
      " [[72 40 59 46 28 92]]]\n",
      "Max = 97\n",
      "Min = 4\n"
     ]
    }
   ],
   "source": [
    "import numpy as np\n",
    "import random\n",
    "arr = np.array([\n",
    "    [\n",
    "        list(int(random.randint(1,100)) for _ in range(6))\n",
    "    ] for _ in range(6)\n",
    "])\n",
    "print(arr)\n",
    "print(f\"Max = {np.max(arr)}\")\n",
    "print(f\"Min = {np.min(arr)}\")"
   ]
  },
  {
   "cell_type": "markdown",
   "metadata": {},
   "source": [
    "## Question 5\n",
    "\n",
    "create a 3D numpy array and reshape it to 2D"
   ]
  },
  {
   "cell_type": "code",
   "execution_count": 28,
   "metadata": {},
   "outputs": [
    {
     "name": "stdout",
     "output_type": "stream",
     "text": [
      "from 3D tp 2D\n"
     ]
    }
   ],
   "source": [
    "import numpy as np\n",
    "import random\n",
    "arr = np.array([\n",
    "    [\n",
    "        list(int(random.randint(1,100)) for _ in range(3))\n",
    "    ] for _ in range(2)\n",
    "])\n",
    "arr1 = arr.reshape(2,3)\n",
    "print(f\"from {arr.ndim}D tp {arr1.ndim}D\")"
   ]
  },
  {
   "cell_type": "markdown",
   "metadata": {},
   "source": [
    "## Question 6\n",
    "\n",
    "create 1D array from this data\n",
    "\n",
    "```python\n",
    "    data = [[1, 2, 3], [4, 5, 6], [7, 8, 9]]\n",
    "```"
   ]
  },
  {
   "cell_type": "code",
   "execution_count": 32,
   "metadata": {},
   "outputs": [
    {
     "name": "stdout",
     "output_type": "stream",
     "text": [
      "The dimension of [1 2 3 4 5 6 7 8 9] is 1\n"
     ]
    }
   ],
   "source": [
    "import numpy \n",
    "data = [[1, 2, 3], [4, 5, 6], [7, 8, 9]]\n",
    "data = numpy.array(data)\n",
    "data = data.reshape(9)\n",
    "print(f\"The dimension of {data} is {data.ndim}\")"
   ]
  },
  {
   "cell_type": "code",
   "execution_count": null,
   "metadata": {},
   "outputs": [],
   "source": []
  }
 ],
 "metadata": {
  "kernelspec": {
   "display_name": "Python 3.10.7 64-bit",
   "language": "python",
   "name": "python3"
  },
  "language_info": {
   "codemirror_mode": {
    "name": "ipython",
    "version": 3
   },
   "file_extension": ".py",
   "mimetype": "text/x-python",
   "name": "python",
   "nbconvert_exporter": "python",
   "pygments_lexer": "ipython3",
   "version": "3.10.7"
  },
  "orig_nbformat": 4,
  "vscode": {
   "interpreter": {
    "hash": "656384d5f48c8d5f14c88551f8706a1e1b7fd32f653e7672b519df81f962a3ea"
   }
  }
 },
 "nbformat": 4,
 "nbformat_minor": 2
}
