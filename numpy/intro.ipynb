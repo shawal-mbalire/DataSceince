{
 "cells": [
  {
   "cell_type": "markdown",
   "metadata": {},
   "source": [
    "# Numpy\n",
    "\n",
    "NumPy is the fundamental package for scientific computing in Python. It is a Python library that provides a multidimensional array object, various derived objects (such as masked arrays and matrices), and an assortment of routines for\n",
    "fast operations on arrays, including mathematical, logical, shape manipulation, sorting, selecting, I/O, discrete Fourier\n",
    "transforms, basic linear algebra, basic statistical operations, random simulation and much more.\n"
   ]
  },
  {
   "cell_type": "code",
   "execution_count": 1,
   "metadata": {},
   "outputs": [],
   "source": [
    "import numpy as np #import the numpy"
   ]
  },
  {
   "cell_type": "markdown",
   "metadata": {},
   "source": [
    "-  #### ndarray.ndim\n",
    "the number of axes (dimensions) of the array.\n",
    "- #### ndarray.shape\n",
    "the dimensions of the array. This is a tuple of integers indicating the size of the array in each dimension. For a\n",
    "matrix with n rows and m columns, shape will be (n,m). The length of the shape tuple is therefore the number\n",
    "of axes, ndim.\n",
    "- #### ndarray.size\n",
    "the total number of elements of the array. This is equal to the product of the elements of shape.\n",
    "- #### ndarray.dtype\n",
    "an object describing the type of the elements in the array. One can create or specify dtype’s using standard Python\n",
    "types. Additionally NumPy provides types of its own. numpy.int32, numpy.int16, and numpy.float64 are some\n",
    "examples.\n",
    "- #### ndarray.itemsize\n",
    "the size in bytes of each element of the array. For example, an array of elements of type float64 has itemsize\n",
    "8 (=64/8), while one of type complex32 has itemsize 4 (=32/8). It is equivalent to ndarray.dtype.\n",
    "itemsize.\n",
    "- #### ndarray.data\n",
    "the buffer containing the actual elements of the array. Normally, we won’t need to use this attribute because we\n",
    "will access the elements in an array using indexing facilities."
   ]
  },
  {
   "cell_type": "code",
   "execution_count": 2,
   "metadata": {},
   "outputs": [
    {
     "name": "stdout",
     "output_type": "stream",
     "text": [
      "[[90 98 87 85]\n",
      " [87 85 86 87]\n",
      " [84 75 86 95]]\n"
     ]
    }
   ],
   "source": [
    "david_mark = np.array([\n",
    "    [90,98,87,85],\n",
    "    [87,85,86,87],\n",
    "    [84,75,86,95]\n",
    "])\n",
    "print(david_mark)"
   ]
  },
  {
   "cell_type": "code",
   "execution_count": 3,
   "metadata": {},
   "outputs": [
    {
     "name": "stdout",
     "output_type": "stream",
     "text": [
      "[[90 98 87 85]\n",
      " [87 85 86 87]\n",
      " [84 75 86 95]]\n"
     ]
    }
   ],
   "source": [
    "print(david_mark.view())"
   ]
  },
  {
   "cell_type": "code",
   "execution_count": 4,
   "metadata": {},
   "outputs": [
    {
     "name": "stdout",
     "output_type": "stream",
     "text": [
      "None\n"
     ]
    }
   ],
   "source": [
    "print(david_mark.base)"
   ]
  },
  {
   "cell_type": "code",
   "execution_count": 5,
   "metadata": {},
   "outputs": [
    {
     "name": "stdout",
     "output_type": "stream",
     "text": [
      "(3, 4)\n"
     ]
    }
   ],
   "source": [
    "print(david_mark.shape)"
   ]
  },
  {
   "cell_type": "code",
   "execution_count": 6,
   "metadata": {},
   "outputs": [
    {
     "name": "stdout",
     "output_type": "stream",
     "text": [
      "2\n"
     ]
    }
   ],
   "source": [
    "print(david_mark.ndim)"
   ]
  },
  {
   "cell_type": "code",
   "execution_count": 7,
   "metadata": {},
   "outputs": [
    {
     "name": "stdout",
     "output_type": "stream",
     "text": [
      "12\n"
     ]
    }
   ],
   "source": [
    "print(david_mark.size)"
   ]
  },
  {
   "cell_type": "code",
   "execution_count": 8,
   "metadata": {},
   "outputs": [
    {
     "name": "stdout",
     "output_type": "stream",
     "text": [
      "4\n"
     ]
    }
   ],
   "source": [
    "print(david_mark.itemsize)"
   ]
  },
  {
   "cell_type": "code",
   "execution_count": 13,
   "metadata": {},
   "outputs": [
    {
     "name": "stdout",
     "output_type": "stream",
     "text": [
      "<built-in method itemset of numpy.ndarray object at 0x000001C1D5CEA310>\n"
     ]
    }
   ],
   "source": [
    "print(david_mark.itemset)"
   ]
  },
  {
   "cell_type": "markdown",
   "metadata": {},
   "source": [
    "##### Reshaping arrays\n",
    "\n",
    "consider a one dimensional array to be reshaped.\n",
    "Make sure that reshaping is posibble\n"
   ]
  },
  {
   "cell_type": "code",
   "execution_count": 14,
   "metadata": {},
   "outputs": [],
   "source": [
    "arr = np.array(\n",
    "    [i+1 for i in range(12)]\n",
    ")#1d array"
   ]
  },
  {
   "cell_type": "markdown",
   "metadata": {},
   "source": [
    "all arrays must contain the same number of elements for example \n",
    "the array above of 12 can be reshaped into\n",
    "2,3,4,6 dimension arrays"
   ]
  },
  {
   "cell_type": "code",
   "execution_count": 15,
   "metadata": {},
   "outputs": [
    {
     "name": "stdout",
     "output_type": "stream",
     "text": [
      "[ 1  2  3  4  5  6  7  8  9 10 11 12]\n",
      "[[ 1  2  3]\n",
      " [ 4  5  6]\n",
      " [ 7  8  9]\n",
      " [10 11 12]]\n"
     ]
    }
   ],
   "source": [
    "print(arr)\n",
    "arr = arr.reshape(4,3)# reshape to 4 arrays of 3 elements ie(4*3) = 12\n",
    "print(arr)"
   ]
  },
  {
   "cell_type": "code",
   "execution_count": 17,
   "metadata": {},
   "outputs": [
    {
     "name": "stdout",
     "output_type": "stream",
     "text": [
      "[ 1  2  3  4  5  6  7  8  9 10 11 12]\n",
      "[[ 1  2  3  4  5  6]\n",
      " [ 7  8  9 10 11 12]]\n"
     ]
    }
   ],
   "source": [
    "arr = np.array(\n",
    "    [i+1 for i in range(12)]\n",
    ")#1d array\n",
    "print(arr)\n",
    "arr = arr.reshape(2,6)# reshape to 4 arrays of 3 elements ie(2*6) = 12\n",
    "print(arr)"
   ]
  },
  {
   "cell_type": "code",
   "execution_count": 22,
   "metadata": {},
   "outputs": [
    {
     "name": "stdout",
     "output_type": "stream",
     "text": [
      "[[[ 1  2]\n",
      "  [ 3  4]\n",
      "  [ 5  6]]\n",
      "\n",
      " [[ 7  8]\n",
      "  [ 9 10]\n",
      "  [11 12]]]\n"
     ]
    }
   ],
   "source": [
    "\"\"\"arr = np.array(\n",
    "    [i+1 for i in range(12)]\n",
    ")#1d array\n",
    "print(arr)\"\"\"\n",
    "arr = arr.reshape(2,3,2)# reshape to 4 arrays of 3 elements ie(2*3*2) = 12\n",
    "print(arr)"
   ]
  },
  {
   "cell_type": "code",
   "execution_count": 20,
   "metadata": {},
   "outputs": [
    {
     "name": "stdout",
     "output_type": "stream",
     "text": [
      "[ 1  2  3  4  5  6  7  8  9 10 11 12]\n",
      "[[[ 1]\n",
      "  [ 2]\n",
      "  [ 3]\n",
      "  [ 4]]\n",
      "\n",
      " [[ 5]\n",
      "  [ 6]\n",
      "  [ 7]\n",
      "  [ 8]]\n",
      "\n",
      " [[ 9]\n",
      "  [10]\n",
      "  [11]\n",
      "  [12]]]\n"
     ]
    }
   ],
   "source": [
    "arr = np.array(\n",
    "    [i+1 for i in range(12)]\n",
    ")#1d array\n",
    "print(arr)\n",
    "arr = arr.reshape(3,4,1)# reshape to 4 arrays of 3 elements ie(2*3*2) = 12\n",
    "print(arr)"
   ]
  },
  {
   "cell_type": "markdown",
   "metadata": {},
   "source": [
    "Reshape works on all numpy array.\n",
    "It only caters for the length and elements in the array"
   ]
  }
 ],
 "metadata": {
  "kernelspec": {
   "display_name": "Python 3.10.7 64-bit",
   "language": "python",
   "name": "python3"
  },
  "language_info": {
   "codemirror_mode": {
    "name": "ipython",
    "version": 3
   },
   "file_extension": ".py",
   "mimetype": "text/x-python",
   "name": "python",
   "nbconvert_exporter": "python",
   "pygments_lexer": "ipython3",
   "version": "3.10.7"
  },
  "orig_nbformat": 4,
  "vscode": {
   "interpreter": {
    "hash": "656384d5f48c8d5f14c88551f8706a1e1b7fd32f653e7672b519df81f962a3ea"
   }
  }
 },
 "nbformat": 4,
 "nbformat_minor": 2
}
