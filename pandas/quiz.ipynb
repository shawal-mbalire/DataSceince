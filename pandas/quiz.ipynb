{
 "cells": [
  {
   "cell_type": "markdown",
   "metadata": {},
   "source": [
    "## Question 1\n",
    "\n",
    "What is the result of the following code?\n",
    "\n",
    "```python\n",
    "import pandas as pd\n",
    "import numpy as np\n",
    "\n",
    "df = pd.DataFrame(np.random.randn(5, 3), columns=['col1', 'col2', 'col3'])\n",
    "df.apply(lambda x: x.max() - x.min())\n",
    "```\n",
    "\n",
    "A. col1    1.0\n",
    "    col2    1.0\n",
    "    col3    1.0\n",
    "    dtype: float64\n",
    "\n",
    "B. col1    1.0\n",
    "    col2    1.0\n",
    "    col3    1.0\n",
    "    dtype: float64\n",
    "\n",
    "C. col1    1.0\n",
    "    col2    1.0\n",
    "    col3    1.0\n",
    "    dtype: float64\n",
    "\n",
    "D. col1    1.0\n",
    "    col2    1.0\n",
    "    col3    1.0\n",
    "    dtype: float64"
   ]
  },
  {
   "cell_type": "code",
   "execution_count": 7,
   "metadata": {},
   "outputs": [
    {
     "data": {
      "text/plain": [
       "col1    2.743614\n",
       "col2    1.895299\n",
       "col3    0.952968\n",
       "dtype: float64"
      ]
     },
     "execution_count": 7,
     "metadata": {},
     "output_type": "execute_result"
    }
   ],
   "source": [
    "import pandas as pd\n",
    "import numpy as np\n",
    "\n",
    "df = pd.DataFrame(np.random.randn(5, 3), columns=['col1', 'col2', 'col3'])\n",
    "df.apply(lambda x: x.max() - x.min())"
   ]
  },
  {
   "cell_type": "markdown",
   "metadata": {},
   "source": [
    "## Question 2\n",
    "\n",
    "Download a csv file from https://stats.govt.nz/assets/Uploads/Business-employment-data/Business-employment-data-June-2022-quarter/Download-data/business-employment-data-june-2022-quarter-csv.zip and load it into a pandas dataframe. How many rows and columns are there?"
   ]
  },
  {
   "cell_type": "code",
   "execution_count": 25,
   "metadata": {},
   "outputs": [
    {
     "name": "stdout",
     "output_type": "stream",
     "text": [
      "\n",
      "Rows   : 20254\n",
      "Columns: 14\n",
      "\n"
     ]
    }
   ],
   "source": [
    "import requests\n",
    "import os\n",
    "\n",
    "# Load CSV\n",
    "def download_csv(url):\n",
    "    r = requests.get(url)\n",
    "    with open('data.csv', 'wb') as f:\n",
    "        f.write(r.content)\n",
    "\n",
    "if not os.path.exists('data.csv'):\n",
    "    download_csv('https://stats.govt.nz/assets/Uploads/Business-employment-data/Business-employment-data-June-2022-quarter/Download-data/business-employment-data-june-2022-quarter-csv')\n",
    "\n",
    "\n",
    "df = pd.read_csv('data.csv')\n",
    "print(f\"\"\"\n",
    "Rows   : {len(df)}\n",
    "Columns: {len(df.columns)}\n",
    "\"\"\")"
   ]
  },
  {
   "cell_type": "markdown",
   "metadata": {},
   "source": [
    "## Question 3\n",
    "\n",
    "What method can be used to get the number of non-NA values in a pandas dataframe?\n",
    "\n",
    "A. `df.count()`\n",
    "\n",
    "B. `df.na_count()`\n",
    "\n",
    "C. `df.na_values()`\n",
    "\n",
    "D. `df.na_count()`"
   ]
  },
  {
   "cell_type": "markdown",
   "metadata": {},
   "source": [
    "A"
   ]
  },
  {
   "cell_type": "markdown",
   "metadata": {},
   "source": [
    "## Question 4\n",
    "\n",
    "Create a dataframe with 10 rows and 3 columns, where the values are random numbers between 1 and 10 (inclusive). Then, replace all values greater than 5 with the value 10."
   ]
  },
  {
   "cell_type": "code",
   "execution_count": 37,
   "metadata": {},
   "outputs": [
    {
     "name": "stdout",
     "output_type": "stream",
     "text": [
      "    A   B   C\n",
      "0  10  10  10\n",
      "1  10  10  10\n",
      "2  10  10  10\n",
      "3  10  10  10\n",
      "4  10  10  10\n",
      "5  10  10  10\n",
      "6  10  10  10\n",
      "7   5  10  10\n",
      "8  10  10  10\n",
      "9  10  10  10\n"
     ]
    }
   ],
   "source": [
    "import pandas as pd\n",
    "import numpy as np\n",
    "df = pd.DataFrame(np.random.randint(0,100,size= (10, 3)), columns=list ('ABC'))\n",
    "df = df.applymap(lambda num: 10 if num > 5 else num)\n",
    "print(df)"
   ]
  },
  {
   "cell_type": "markdown",
   "metadata": {},
   "source": [
    "## Question 5\n",
    "\n",
    "create a dataframe from this link https://jsonplaceholder.typicode.com/albums"
   ]
  },
  {
   "cell_type": "code",
   "execution_count": 38,
   "metadata": {},
   "outputs": [
    {
     "name": "stdout",
     "output_type": "stream",
     "text": [
      "   userId  id                                     title\n",
      "0       1   1                     quidem molestiae enim\n",
      "1       1   2          sunt qui excepturi placeat culpa\n",
      "2       1   3                        omnis laborum odio\n",
      "3       1   4  non esse culpa molestiae omnis sed optio\n",
      "4       1   5                         eaque aut omnis a\n"
     ]
    }
   ],
   "source": [
    "# Read JSON data\n",
    "\n",
    "todos = requests.get(\"https://jsonplaceholder.typicode.com/albums\").json()\n",
    "\n",
    "df = pd.DataFrame(todos)\n",
    "\n",
    "print(df.head())"
   ]
  }
 ],
 "metadata": {
  "kernelspec": {
   "display_name": "Python 3.10.7 64-bit",
   "language": "python",
   "name": "python3"
  },
  "language_info": {
   "codemirror_mode": {
    "name": "ipython",
    "version": 3
   },
   "file_extension": ".py",
   "mimetype": "text/x-python",
   "name": "python",
   "nbconvert_exporter": "python",
   "pygments_lexer": "ipython3",
   "version": "3.10.7"
  },
  "orig_nbformat": 4,
  "vscode": {
   "interpreter": {
    "hash": "656384d5f48c8d5f14c88551f8706a1e1b7fd32f653e7672b519df81f962a3ea"
   }
  }
 },
 "nbformat": 4,
 "nbformat_minor": 2
}
